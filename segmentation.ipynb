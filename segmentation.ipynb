{
  "nbformat": 4,
  "nbformat_minor": 0,
  "metadata": {
    "colab": {
      "name": "segmentation.ipynb",
      "provenance": [],
      "collapsed_sections": [
        "Bkpc67PnKNFz",
        "hA7tpE9Th1aT"
      ],
      "toc_visible": true,
      "machine_shape": "hm"
    },
    "kernelspec": {
      "name": "python3",
      "display_name": "Python 3"
    }
  },
  "cells": [
    {
      "cell_type": "markdown",
      "metadata": {
        "id": "_LQEolhnKXpI",
        "colab_type": "text"
      },
      "source": [
        "# Setup"
      ]
    },
    {
      "cell_type": "code",
      "metadata": {
        "id": "bujZdIEdkoRm",
        "colab_type": "code",
        "colab": {}
      },
      "source": [
        "!pip install --upgrade scikit-image"
      ],
      "execution_count": 0,
      "outputs": []
    },
    {
      "cell_type": "code",
      "metadata": {
        "id": "hCwMVSFPWXFB",
        "colab_type": "code",
        "outputId": "708d2e08-ef4d-4d3f-9688-d381f4b36042",
        "colab": {
          "base_uri": "https://localhost:8080/",
          "height": 121
        }
      },
      "source": [
        "from google.colab import drive\n",
        "drive.mount('/content/gdrive')"
      ],
      "execution_count": 0,
      "outputs": [
        {
          "output_type": "stream",
          "text": [
            "Go to this URL in a browser: https://accounts.google.com/o/oauth2/auth?client_id=947318989803-6bn6qk8qdgf4n4g3pfee6491hc0brc4i.apps.googleusercontent.com&redirect_uri=urn%3aietf%3awg%3aoauth%3a2.0%3aoob&response_type=code&scope=email%20https%3a%2f%2fwww.googleapis.com%2fauth%2fdocs.test%20https%3a%2f%2fwww.googleapis.com%2fauth%2fdrive%20https%3a%2f%2fwww.googleapis.com%2fauth%2fdrive.photos.readonly%20https%3a%2f%2fwww.googleapis.com%2fauth%2fpeopleapi.readonly\n",
            "\n",
            "Enter your authorization code:\n",
            "··········\n",
            "Mounted at /content/gdrive\n"
          ],
          "name": "stdout"
        }
      ]
    },
    {
      "cell_type": "markdown",
      "metadata": {
        "id": "OJTpA66WKZFx",
        "colab_type": "text"
      },
      "source": [
        "# Template Matching"
      ]
    },
    {
      "cell_type": "code",
      "metadata": {
        "id": "xIX9VkzyKcAW",
        "colab_type": "code",
        "colab": {}
      },
      "source": [
        "import numpy as np\n",
        "from skimage import feature, io, color, transform\n",
        "import numpy.linalg as npla\n",
        "import os\n",
        "from tqdm import tqdm \n",
        "from copy import copy\n",
        "\n",
        "def template_match(im, data_folder, samples=20):\n",
        "\n",
        "    im = color.rgb2gray(im)\n",
        "\n",
        "    types = ['bishop', 'king', 'knight', 'pawn', 'queen', 'rook']\n",
        "    \n",
        "    errors = np.zeros(len(types))\n",
        "\n",
        "    for idx, piece in enumerate(types):    \n",
        "        err = []\n",
        "        neighbor_list = os.listdir(data_folder + piece)\n",
        "\n",
        "        for idx2, ngbr_name in tqdm(enumerate(neighbor_list), total=samples, desc=piece):\n",
        "        # for idx2, ngbr_name in enumerate(neighbor_list):\n",
        "            \n",
        "            name = data_folder + piece + '/' + ngbr_name \n",
        "\n",
        "            if name[-3:] == 'npy':\n",
        "                hog_name = name\n",
        "                jpg_name = copy(name[:-8]) + '.jpg'\n",
        "            else:\n",
        "                jpg_name = name\n",
        "                hog_name = copy(name[:-4]) + '.hog.npy'\n",
        "            \n",
        "            if not os.path.exists(hog_name):\n",
        "                break\n",
        "\n",
        "            f_ngbr = np.load(hog_name)\n",
        "\n",
        "            ngbr = color.rgb2gray(io.imread(jpg_name))\n",
        "            \n",
        "            im = transform.resize(im, (ngbr.shape), anti_aliasing=True)\n",
        "        \n",
        "            f_im = feature.hog(im)\n",
        "            \n",
        "            err.append(npla.norm(f_im - f_ngbr))\n",
        "\n",
        "            if idx2 > samples-1:\n",
        "                break\n",
        "                \n",
        "        errors[idx] = np.mean(np.asarray(err))\n",
        "    \n",
        "    sel_piece = types[np.argmin(errors)]\n",
        "\n",
        "    return sel_piece, errors"
      ],
      "execution_count": 0,
      "outputs": []
    },
    {
      "cell_type": "code",
      "metadata": {
        "id": "Y3EU8lRJUUIV",
        "colab_type": "code",
        "outputId": "fcf74553-0194-4ce5-c34f-6e1b2af1b573",
        "colab": {
          "base_uri": "https://localhost:8080/",
          "height": 1000
        }
      },
      "source": [
        "data_folder = '/content/gdrive/My Drive/Visual Chess Recognition/training_images/'\n",
        "\n",
        "recog = []\n",
        "names = []\n",
        "errors = []\n",
        "\n",
        "check_folder = '/content/gdrive/My Drive/Visual Chess Recognition/Test/Pieces/White/'\n",
        "\n",
        "for i, im_name in enumerate(os.listdir(check_folder)):\n",
        "    print('i: ' + str(i))\n",
        "    im = io.imread(check_folder + im_name)\n",
        "    piece, errs = template_match(im, data_folder, samples=100)\n",
        "    recog.append(piece)\n",
        "    errors.append(errs)\n",
        "    names.append(im_name)\n",
        "    print()\n",
        "    print(piece)\n",
        "    print(errs)\n",
        "    print(im_name)\n",
        "    print()"
      ],
      "execution_count": 0,
      "outputs": [
        {
          "output_type": "stream",
          "text": [
            "bishop:   2%|▏         | 2/100 [00:00<00:05, 17.29it/s]"
          ],
          "name": "stderr"
        },
        {
          "output_type": "stream",
          "text": [
            "i: 0\n"
          ],
          "name": "stdout"
        },
        {
          "output_type": "stream",
          "text": [
            "bishop: 100%|██████████| 100/100 [00:05<00:00, 17.75it/s]\n",
            "king: 100%|██████████| 100/100 [00:05<00:00, 18.38it/s]\n",
            "knight: 100%|██████████| 100/100 [00:05<00:00, 18.49it/s]\n",
            "pawn: 100%|██████████| 100/100 [00:05<00:00, 17.43it/s]\n",
            "queen: 100%|██████████| 100/100 [00:05<00:00, 18.86it/s]\n",
            "rook: 100%|██████████| 100/100 [00:05<00:00, 19.21it/s]\n",
            "bishop:   2%|▏         | 2/100 [00:00<00:05, 18.65it/s]"
          ],
          "name": "stderr"
        },
        {
          "output_type": "stream",
          "text": [
            "\n",
            "pawn\n",
            "[27.90279468 28.3553266  27.85994151 27.44551085 27.7522318  28.10563846]\n",
            "46.jpg\n",
            "\n",
            "i: 1\n"
          ],
          "name": "stdout"
        },
        {
          "output_type": "stream",
          "text": [
            "bishop: 100%|██████████| 100/100 [00:05<00:00, 19.08it/s]\n",
            "king:  99%|█████████▉| 99/100 [00:05<00:00, 18.54it/s]\n",
            "knight: 100%|██████████| 100/100 [00:05<00:00, 17.62it/s]\n",
            "pawn: 100%|██████████| 100/100 [00:05<00:00, 19.08it/s]\n",
            "queen: 100%|██████████| 100/100 [00:05<00:00, 17.43it/s]\n",
            "rook: 100%|██████████| 100/100 [00:05<00:00, 18.63it/s]\n"
          ],
          "name": "stderr"
        },
        {
          "output_type": "stream",
          "text": [
            "\n",
            "pawn\n",
            "[28.28301434 28.97578895 28.35529414 27.83736576 28.36228319 28.45653415]\n",
            "47.jpg\n",
            "\n",
            "i: 2\n"
          ],
          "name": "stdout"
        },
        {
          "output_type": "stream",
          "text": [
            "bishop:  99%|█████████▉| 99/100 [00:05<00:00, 19.50it/s]\n",
            "king: 100%|██████████| 100/100 [00:05<00:00, 19.59it/s]\n",
            "knight: 100%|██████████| 100/100 [00:05<00:00, 19.06it/s]\n",
            "pawn: 100%|██████████| 100/100 [00:05<00:00, 17.80it/s]\n",
            "queen: 100%|██████████| 100/100 [00:05<00:00, 19.06it/s]\n",
            "rook: 100%|██████████| 100/100 [00:05<00:00, 18.48it/s]\n"
          ],
          "name": "stderr"
        },
        {
          "output_type": "stream",
          "text": [
            "\n",
            "pawn\n",
            "[27.70144088 28.28850419 27.75532075 27.2042262  27.75149668 27.8938775 ]\n",
            "22.jpg\n",
            "\n",
            "i: 3\n"
          ],
          "name": "stdout"
        },
        {
          "output_type": "stream",
          "text": [
            "bishop: 100%|██████████| 100/100 [00:05<00:00, 19.21it/s]\n",
            "king: 100%|██████████| 100/100 [00:05<00:00, 18.79it/s]\n",
            "knight: 100%|██████████| 100/100 [00:05<00:00, 18.14it/s]\n",
            "pawn: 100%|██████████| 100/100 [00:05<00:00, 18.91it/s]\n",
            "queen: 100%|██████████| 100/100 [00:05<00:00, 19.74it/s]\n",
            "rook:  99%|█████████▉| 99/100 [00:05<00:00, 19.55it/s]\n"
          ],
          "name": "stderr"
        },
        {
          "output_type": "stream",
          "text": [
            "\n",
            "pawn\n",
            "[27.29489265 28.18517286 27.55210839 26.67697405 27.57688252 27.64909951]\n",
            "62.jpg\n",
            "\n",
            "i: 4\n"
          ],
          "name": "stdout"
        },
        {
          "output_type": "stream",
          "text": [
            "bishop: 100%|██████████| 100/100 [00:05<00:00, 18.19it/s]\n",
            "king: 100%|██████████| 100/100 [00:05<00:00, 19.04it/s]\n",
            "knight: 100%|██████████| 100/100 [00:05<00:00, 19.03it/s]\n",
            "pawn: 100%|██████████| 100/100 [00:05<00:00, 18.76it/s]\n",
            "queen: 100%|██████████| 100/100 [00:05<00:00, 18.11it/s]\n",
            "rook: 100%|██████████| 100/100 [00:05<00:00, 19.38it/s]\n"
          ],
          "name": "stderr"
        },
        {
          "output_type": "stream",
          "text": [
            "\n",
            "pawn\n",
            "[27.17486887 27.74245974 27.22311043 26.46911405 27.31482879 27.2255237 ]\n",
            "38.jpg\n",
            "\n",
            "i: 5\n"
          ],
          "name": "stdout"
        },
        {
          "output_type": "stream",
          "text": [
            "bishop:  99%|█████████▉| 99/100 [00:05<00:00, 18.42it/s]\n",
            "king: 100%|██████████| 100/100 [00:05<00:00, 18.15it/s]\n",
            "knight: 100%|██████████| 100/100 [00:05<00:00, 18.21it/s]\n",
            "pawn: 100%|██████████| 100/100 [00:05<00:00, 17.19it/s]\n",
            "queen: 100%|██████████| 100/100 [00:05<00:00, 17.84it/s]\n",
            "rook:  99%|█████████▉| 99/100 [00:05<00:00, 18.90it/s]\n"
          ],
          "name": "stderr"
        },
        {
          "output_type": "stream",
          "text": [
            "\n",
            "pawn\n",
            "[27.93550697 28.75730712 27.99697021 27.47524149 28.05864151 28.13276242]\n",
            "55.jpg\n",
            "\n",
            "i: 6\n"
          ],
          "name": "stdout"
        },
        {
          "output_type": "stream",
          "text": [
            "bishop:  99%|█████████▉| 99/100 [00:05<00:00, 18.60it/s]\n",
            "king: 100%|██████████| 100/100 [00:05<00:00, 18.57it/s]\n",
            "knight: 100%|██████████| 100/100 [00:05<00:00, 18.36it/s]\n",
            "pawn: 100%|██████████| 100/100 [00:05<00:00, 17.69it/s]\n",
            "queen: 100%|██████████| 100/100 [00:05<00:00, 18.09it/s]\n",
            "rook: 100%|██████████| 100/100 [00:05<00:00, 18.48it/s]\n"
          ],
          "name": "stderr"
        },
        {
          "output_type": "stream",
          "text": [
            "\n",
            "pawn\n",
            "[28.28658656 28.79275627 28.3559803  27.91606001 28.3422832  28.63935782]\n",
            "23.jpg\n",
            "\n",
            "i: 7\n"
          ],
          "name": "stdout"
        },
        {
          "output_type": "stream",
          "text": [
            "bishop: 100%|██████████| 100/100 [00:05<00:00, 19.03it/s]\n",
            "king: 100%|██████████| 100/100 [00:05<00:00, 19.80it/s]\n",
            "knight: 100%|██████████| 100/100 [00:05<00:00, 18.43it/s]\n",
            "pawn: 100%|██████████| 100/100 [00:05<00:00, 17.24it/s]\n",
            "queen: 100%|██████████| 100/100 [00:05<00:00, 19.10it/s]\n",
            "rook: 100%|██████████| 100/100 [00:05<00:00, 19.35it/s]\n"
          ],
          "name": "stderr"
        },
        {
          "output_type": "stream",
          "text": [
            "\n",
            "pawn\n",
            "[27.97991766 28.42974759 28.05479263 27.36411757 27.94819783 28.24524364]\n",
            "15.jpg\n",
            "\n",
            "i: 8\n"
          ],
          "name": "stdout"
        },
        {
          "output_type": "stream",
          "text": [
            "bishop: 100%|██████████| 100/100 [00:05<00:00, 18.47it/s]\n",
            "king: 100%|██████████| 100/100 [00:05<00:00, 19.66it/s]\n",
            "knight: 100%|██████████| 100/100 [00:05<00:00, 17.49it/s]\n",
            "pawn: 100%|██████████| 100/100 [00:05<00:00, 18.78it/s]\n",
            "queen: 100%|██████████| 100/100 [00:05<00:00, 18.75it/s]\n",
            "rook: 100%|██████████| 100/100 [00:05<00:00, 19.19it/s]\n"
          ],
          "name": "stderr"
        },
        {
          "output_type": "stream",
          "text": [
            "\n",
            "pawn\n",
            "[28.01667528 28.92935137 28.22320061 27.67859391 28.30062798 28.25937209]\n",
            "63.jpg\n",
            "\n",
            "i: 9\n"
          ],
          "name": "stdout"
        },
        {
          "output_type": "stream",
          "text": [
            "bishop: 100%|██████████| 100/100 [00:05<00:00, 18.67it/s]\n",
            "king:  99%|█████████▉| 99/100 [00:05<00:00, 18.55it/s]\n",
            "knight: 100%|██████████| 100/100 [00:05<00:00, 18.95it/s]\n",
            "pawn: 100%|██████████| 100/100 [00:05<00:00, 18.36it/s]\n",
            "queen:  99%|█████████▉| 99/100 [00:05<00:00, 17.75it/s]\n",
            "rook: 100%|██████████| 100/100 [00:05<00:00, 19.40it/s]\n"
          ],
          "name": "stderr"
        },
        {
          "output_type": "stream",
          "text": [
            "\n",
            "pawn\n",
            "[27.73329164 28.23426667 27.85808975 27.10560835 27.7170746  28.0199448 ]\n",
            "14.jpg\n",
            "\n",
            "i: 10\n"
          ],
          "name": "stdout"
        },
        {
          "output_type": "stream",
          "text": [
            "bishop:  99%|█████████▉| 99/100 [00:05<00:00, 18.33it/s]\n",
            "king: 100%|██████████| 100/100 [00:05<00:00, 18.70it/s]\n",
            "knight: 100%|██████████| 100/100 [00:05<00:00, 18.37it/s]\n",
            "pawn: 100%|██████████| 100/100 [00:05<00:00, 18.47it/s]\n",
            "queen: 100%|██████████| 100/100 [00:05<00:00, 17.74it/s]\n",
            "rook: 100%|██████████| 100/100 [00:05<00:00, 17.86it/s]\n"
          ],
          "name": "stderr"
        },
        {
          "output_type": "stream",
          "text": [
            "\n",
            "pawn\n",
            "[27.96002948 28.76488361 28.11637058 27.2646855  28.05665443 28.09382684]\n",
            "39.jpg\n",
            "\n",
            "i: 11\n"
          ],
          "name": "stdout"
        },
        {
          "output_type": "stream",
          "text": [
            "bishop:  99%|█████████▉| 99/100 [00:05<00:00, 17.94it/s]\n",
            "king: 100%|██████████| 100/100 [00:05<00:00, 19.04it/s]\n",
            "knight:  99%|█████████▉| 99/100 [00:05<00:00, 18.87it/s]\n",
            "pawn: 100%|██████████| 100/100 [00:05<00:00, 18.50it/s]\n",
            "queen: 100%|██████████| 100/100 [00:05<00:00, 18.90it/s]\n",
            "rook: 100%|██████████| 100/100 [00:05<00:00, 18.94it/s]\n"
          ],
          "name": "stderr"
        },
        {
          "output_type": "stream",
          "text": [
            "\n",
            "pawn\n",
            "[28.38329923 28.79725061 28.46208874 27.7624495  28.37900743 28.58185738]\n",
            "7.jpg\n",
            "\n",
            "i: 12\n"
          ],
          "name": "stdout"
        },
        {
          "output_type": "stream",
          "text": [
            "bishop: 100%|██████████| 100/100 [00:05<00:00, 18.90it/s]\n",
            "king: 100%|██████████| 100/100 [00:05<00:00, 18.85it/s]\n",
            "knight:  99%|█████████▉| 99/100 [00:05<00:00, 18.75it/s]\n",
            "pawn: 100%|██████████| 100/100 [00:05<00:00, 17.07it/s]\n",
            "queen: 100%|██████████| 100/100 [00:05<00:00, 18.69it/s]\n",
            "rook: 100%|██████████| 100/100 [00:05<00:00, 18.44it/s]\n"
          ],
          "name": "stderr"
        },
        {
          "output_type": "stream",
          "text": [
            "\n",
            "pawn\n",
            "[27.44011397 27.92004316 27.56582459 26.70654861 27.39664811 27.63465765]\n",
            "6.jpg\n",
            "\n",
            "i: 13\n"
          ],
          "name": "stdout"
        },
        {
          "output_type": "stream",
          "text": [
            "bishop: 100%|██████████| 100/100 [00:05<00:00, 18.80it/s]\n",
            "king: 100%|██████████| 100/100 [00:05<00:00, 18.90it/s]\n",
            "knight: 100%|██████████| 100/100 [00:05<00:00, 19.52it/s]\n",
            "pawn: 100%|██████████| 100/100 [00:05<00:00, 18.70it/s]\n",
            "queen: 100%|██████████| 100/100 [00:05<00:00, 19.09it/s]\n",
            "rook: 100%|██████████| 100/100 [00:05<00:00, 18.41it/s]\n"
          ],
          "name": "stderr"
        },
        {
          "output_type": "stream",
          "text": [
            "\n",
            "pawn\n",
            "[27.18888207 27.86842686 27.29015305 26.70868054 27.18555641 27.44417089]\n",
            "54.jpg\n",
            "\n",
            "i: 14\n"
          ],
          "name": "stdout"
        },
        {
          "output_type": "stream",
          "text": [
            "bishop: 100%|██████████| 100/100 [00:05<00:00, 18.82it/s]\n",
            "king: 100%|██████████| 100/100 [00:05<00:00, 19.33it/s]\n",
            "knight: 100%|██████████| 100/100 [00:05<00:00, 18.37it/s]\n",
            "pawn: 100%|██████████| 100/100 [00:05<00:00, 18.06it/s]\n",
            "queen: 100%|██████████| 100/100 [00:05<00:00, 19.02it/s]\n",
            "rook: 100%|██████████| 100/100 [00:05<00:00, 17.96it/s]"
          ],
          "name": "stderr"
        },
        {
          "output_type": "stream",
          "text": [
            "\n",
            "pawn\n",
            "[27.32378198 28.03247317 27.32171169 26.77156642 27.38502782 27.2563375 ]\n",
            "30.jpg\n",
            "\n"
          ],
          "name": "stdout"
        },
        {
          "output_type": "stream",
          "text": [
            "\n"
          ],
          "name": "stderr"
        }
      ]
    },
    {
      "cell_type": "code",
      "metadata": {
        "id": "pjGsyRQCjlji",
        "colab_type": "code",
        "colab": {}
      },
      "source": [
        "np.save('recog', recog)\n",
        "np.save('errors', errors)\n",
        "np.save('names', names)"
      ],
      "execution_count": 0,
      "outputs": []
    },
    {
      "cell_type": "code",
      "metadata": {
        "id": "HEhv1Q8QqxG9",
        "colab_type": "code",
        "outputId": "825caedb-f5fd-46e6-c11f-5165eab355c0",
        "colab": {
          "base_uri": "https://localhost:8080/",
          "height": 521
        }
      },
      "source": [
        "for i in range(len(errors)):\n",
        "    print(names[i])\n",
        "    print(np.argsort(errors[i]))"
      ],
      "execution_count": 0,
      "outputs": [
        {
          "output_type": "stream",
          "text": [
            "46.jpg\n",
            "[3 4 2 0 5 1]\n",
            "47.jpg\n",
            "[3 0 2 4 5 1]\n",
            "22.jpg\n",
            "[3 0 4 2 5 1]\n",
            "62.jpg\n",
            "[3 0 2 4 5 1]\n",
            "38.jpg\n",
            "[3 0 2 5 4 1]\n",
            "55.jpg\n",
            "[3 0 2 4 5 1]\n",
            "23.jpg\n",
            "[3 0 4 2 5 1]\n",
            "15.jpg\n",
            "[3 4 0 2 5 1]\n",
            "63.jpg\n",
            "[3 0 2 5 4 1]\n",
            "14.jpg\n",
            "[3 4 0 2 5 1]\n",
            "39.jpg\n",
            "[3 0 4 5 2 1]\n",
            "7.jpg\n",
            "[3 4 0 2 5 1]\n",
            "6.jpg\n",
            "[3 4 0 2 5 1]\n",
            "54.jpg\n",
            "[3 4 0 2 5 1]\n",
            "30.jpg\n",
            "[3 5 2 0 4 1]\n"
          ],
          "name": "stdout"
        }
      ]
    }
  ]
}